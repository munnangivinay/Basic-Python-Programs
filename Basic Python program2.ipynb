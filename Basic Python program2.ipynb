{
 "cells": [
  {
   "cell_type": "code",
   "execution_count": 2,
   "id": "98e4c8c9-129d-44a7-88c0-cf6cec959c96",
   "metadata": {},
   "outputs": [
    {
     "name": "stdin",
     "output_type": "stream",
     "text": [
      "Enter num1 5\n",
      "Enter num2 5\n",
      "Enter num3 9\n"
     ]
    },
    {
     "name": "stdout",
     "output_type": "stream",
     "text": [
      "avg is: 6.333333333333333\n"
     ]
    }
   ],
   "source": [
    "a=int(input(\"Enter num1\"))\n",
    "b=int(input(\"Enter num2\"))\n",
    "c=int(input(\"Enter num3\"))\n",
    "avg=(a+b+c)/3\n",
    "print(\"avg is:\",avg)"
   ]
  },
  {
   "cell_type": "code",
   "execution_count": 3,
   "id": "191a2e5a-d6b4-4272-b83c-561aa5ec5fb4",
   "metadata": {},
   "outputs": [
    {
     "name": "stdin",
     "output_type": "stream",
     "text": [
      "Enter number: 4\n"
     ]
    },
    {
     "name": "stdout",
     "output_type": "stream",
     "text": [
      "8\n"
     ]
    }
   ],
   "source": [
    "a=int(input(\"Enter number:\"))\n",
    "b=a*2\n",
    "print(b)"
   ]
  },
  {
   "cell_type": "code",
   "execution_count": 4,
   "id": "e1dee0ac-0a4c-4d70-a4ff-a83ab355492a",
   "metadata": {},
   "outputs": [
    {
     "name": "stdin",
     "output_type": "stream",
     "text": [
      "Enter number: 5\n"
     ]
    },
    {
     "name": "stdout",
     "output_type": "stream",
     "text": [
      "25\n"
     ]
    }
   ],
   "source": [
    "a=int(input(\"Enter number:\"))\n",
    "b=a**2\n",
    "print(b)"
   ]
  },
  {
   "cell_type": "code",
   "execution_count": 5,
   "id": "7cb197f8-ad4a-4f50-938b-bd6df695a688",
   "metadata": {},
   "outputs": [
    {
     "name": "stdin",
     "output_type": "stream",
     "text": [
      "Enter in minutes: 52\n"
     ]
    },
    {
     "name": "stdout",
     "output_type": "stream",
     "text": [
      "result: 3120\n"
     ]
    }
   ],
   "source": [
    "min=int(input(\"Enter in minutes:\"))\n",
    "seconds=min*60\n",
    "print(\"result:\",seconds)"
   ]
  },
  {
   "cell_type": "code",
   "execution_count": 7,
   "id": "73f41ec4-3697-4244-9fa0-ee798e6aba72",
   "metadata": {},
   "outputs": [
    {
     "name": "stdin",
     "output_type": "stream",
     "text": [
      "Enter num1 4\n",
      "Enter num2 8\n",
      "Enter num3 7\n"
     ]
    },
    {
     "name": "stdout",
     "output_type": "stream",
     "text": [
      "result is: 8\n"
     ]
    }
   ],
   "source": [
    "a=int(input(\"Enter num1\"))\n",
    "b=int(input(\"Enter num2\"))\n",
    "c=int(input(\"Enter num3\"))\n",
    "largest=max(a,b,c)\n",
    "print(\"result is:\", largest)"
   ]
  },
  {
   "cell_type": "code",
   "execution_count": 8,
   "id": "0c560f54-cc04-4c85-aab0-eee1226d565f",
   "metadata": {},
   "outputs": [
    {
     "name": "stdout",
     "output_type": "stream",
     "text": [
      "33\n",
      "-11\n",
      "242\n",
      "0.5\n"
     ]
    }
   ],
   "source": [
    "a=11\n",
    "b=22\n",
    "print(a+b)\n",
    "print(a-b)\n",
    "print(a*b)\n",
    "print(a/b)"
   ]
  },
  {
   "cell_type": "code",
   "execution_count": 11,
   "id": "70dad502-fb16-4f6d-a893-94228cfd0f8f",
   "metadata": {},
   "outputs": [
    {
     "name": "stdin",
     "output_type": "stream",
     "text": [
      "enter number 5\n"
     ]
    },
    {
     "name": "stdout",
     "output_type": "stream",
     "text": [
      "a is positive\n"
     ]
    }
   ],
   "source": [
    "a=int(input(\"enter number\"))\n",
    "if(a>0):\n",
    "    print(\"a is positive\")\n",
    "elif(a<0):\n",
    "    print(\"a is negative\")\n",
    "else:\n",
    "    print(\"a is zero\")\n",
    "    "
   ]
  },
  {
   "cell_type": "code",
   "execution_count": 12,
   "id": "f3bffda5-99f9-487f-8994-caf079fb872c",
   "metadata": {},
   "outputs": [
    {
     "name": "stdin",
     "output_type": "stream",
     "text": [
      "enter number 54\n"
     ]
    },
    {
     "name": "stdout",
     "output_type": "stream",
     "text": [
      "a is even\n"
     ]
    }
   ],
   "source": [
    "a=int(input(\"enter number\"))\n",
    "if(a%2==0):\n",
    "      print(\"a is even\")\n",
    "else:\n",
    "      print(\"a is odd\")\n",
    "    \n"
   ]
  },
  {
   "cell_type": "code",
   "execution_count": 14,
   "id": "2d95ab56-4e7e-4466-9077-adfdc220dd29",
   "metadata": {},
   "outputs": [
    {
     "name": "stdin",
     "output_type": "stream",
     "text": [
      "enter number 23\n"
     ]
    },
    {
     "name": "stdout",
     "output_type": "stream",
     "text": [
      "a is not divisible\n"
     ]
    }
   ],
   "source": [
    "a=int(input(\"enter number\"))\n",
    "if(a%5==0 and a%11==0):\n",
    "      print(\"a is divisible\")\n",
    "else:\n",
    "      print(\"a is not divisible\")"
   ]
  },
  {
   "cell_type": "code",
   "execution_count": 15,
   "id": "f4fd4ecf-bd0b-4d0a-8087-ed26c2f27fc3",
   "metadata": {},
   "outputs": [
    {
     "name": "stdin",
     "output_type": "stream",
     "text": [
      "if atm is inserted enter 1 1\n",
      "if pin is correct enter 1 1\n",
      "if the account is not locked enter 1 1\n"
     ]
    },
    {
     "name": "stdout",
     "output_type": "stream",
     "text": [
      "ATM is accesed\n"
     ]
    }
   ],
   "source": [
    "a=int(input(\"if atm is inserted enter 1\"))\n",
    "b=int(input(\"if pin is correct enter 1\"))\n",
    "c=int(input(\"if the account is not locked enter 1\"))\n",
    "if(a==1 and b==1 and c==1):\n",
    "    print(\"ATM is accesed\")\n",
    "else:\n",
    "    print(\"Access is denied\")"
   ]
  },
  {
   "cell_type": "code",
   "execution_count": 17,
   "id": "8a232112-54ee-4dcd-a9f8-5adc5b22b533",
   "metadata": {},
   "outputs": [
    {
     "name": "stdin",
     "output_type": "stream",
     "text": [
      "enter marks 5\n",
      "enter marks 2\n"
     ]
    },
    {
     "name": "stdout",
     "output_type": "stream",
     "text": [
      "FAil\n"
     ]
    }
   ],
   "source": [
    "theory=int(input(\"enter marks\"))\n",
    "prac=int(input(\"enter marks\"))\n",
    "Total=theory+prac\n",
    "if(theory>=35 and prac>=15 or Total>=60):\n",
    "    print(\"pass\")\n",
    "else:\n",
    "    print(\"FAil\")"
   ]
  },
  {
   "cell_type": "code",
   "execution_count": 18,
   "id": "37e751ec-e955-4eb1-8ce8-8da591004ae8",
   "metadata": {},
   "outputs": [
    {
     "name": "stdin",
     "output_type": "stream",
     "text": [
      "enter your age 15\n"
     ]
    },
    {
     "name": "stdout",
     "output_type": "stream",
     "text": [
      "he/she is teenager\n"
     ]
    }
   ],
   "source": [
    "age=int(input(\"enter your age\"))\n",
    "if(age<=13):\n",
    "    print(\"he/she is child\")\n",
    "elif(age>13 and age<19):\n",
    "    print(\"he/she is teenager\")\n",
    "else:\n",
    "    print(\" he/she is old\")\n",
    "    "
   ]
  },
  {
   "cell_type": "code",
   "execution_count": 20,
   "id": "7be57879-d0f5-4027-b2c8-bb54d46aa00d",
   "metadata": {},
   "outputs": [
    {
     "name": "stdin",
     "output_type": "stream",
     "text": [
      "Enter your marks 75\n"
     ]
    },
    {
     "name": "stdout",
     "output_type": "stream",
     "text": [
      "grade is C\n"
     ]
    }
   ],
   "source": [
    "marks=int(input(\"Enter your marks\"))\n",
    "if(marks>90):\n",
    "    print(\"grade is A\")\n",
    "elif(marks>80 and marks<=90):\n",
    "    print(\"grade is B\")\n",
    "elif(marks>70 and marks<=80):\n",
    "    print(\"grade is C\")\n",
    "elif(marks>60 and marks<=70):\n",
    "    print(\"grade is D\")\n",
    "else:\n",
    "    print(\"Fail\")"
   ]
  },
  {
   "cell_type": "code",
   "execution_count": 22,
   "id": "5f099c05-9109-4d42-b3c7-e42d8bbe49fd",
   "metadata": {},
   "outputs": [
    {
     "name": "stdin",
     "output_type": "stream",
     "text": [
      "enter the day 7\n"
     ]
    },
    {
     "name": "stdout",
     "output_type": "stream",
     "text": [
      "SATURDAY\n"
     ]
    }
   ],
   "source": [
    "Day=int(input(\"enter the day\"))\n",
    "if(Day==1):\n",
    "    print(\"SUNDAY\")\n",
    "elif(Day==2):\n",
    "    print(\"MONDAY\")\n",
    "elif(Day==3):\n",
    "    print(\"TUESDAY\")\n",
    "elif(Day==4):\n",
    "    print(\"WEDNESDAY\")\n",
    "elif(Day==5):\n",
    "    print(\"THURSDAY\")\n",
    "elif(Day==6):\n",
    "    print(\"FRIDAY\")\n",
    "elif(Day==7):\n",
    "    print(\"SATURDAY\")"
   ]
  },
  {
   "cell_type": "code",
   "execution_count": null,
   "id": "a2809532-e988-4d48-b4fa-6d52bfd7cf0a",
   "metadata": {},
   "outputs": [],
   "source": [
    "username=Vinay\n",
    "pass=1234\n"
   ]
  }
 ],
 "metadata": {
  "kernelspec": {
   "display_name": "Python 3 (ipykernel)",
   "language": "python",
   "name": "python3"
  },
  "language_info": {
   "codemirror_mode": {
    "name": "ipython",
    "version": 3
   },
   "file_extension": ".py",
   "mimetype": "text/x-python",
   "name": "python",
   "nbconvert_exporter": "python",
   "pygments_lexer": "ipython3",
   "version": "3.12.4"
  }
 },
 "nbformat": 4,
 "nbformat_minor": 5
}
